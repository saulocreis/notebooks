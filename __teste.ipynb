{
  "nbformat": 4,
  "nbformat_minor": 0,
  "metadata": {
    "colab": {
      "provenance": []
    },
    "kernelspec": {
      "name": "python3",
      "display_name": "Python 3"
    },
    "language_info": {
      "name": "python"
    }
  },
  "cells": [
    {
      "cell_type": "code",
      "source": [
        "from pprint import pp\n",
        "from datetime import datetime\n",
        "import pandas as pd\n",
        "\n",
        "from google.colab import drive\n",
        "drive.mount('/content/drive', force_remount=True)\n",
        "\n",
        "from google.colab import auth\n",
        "auth.authenticate_user()\n",
        "\n",
        "from google.auth import default\n",
        "import gspread\n",
        "creds, _ = default()\n",
        "gc = gspread.authorize(creds)\n",
        "\n",
        "from google.colab import files\n",
        "\n",
        "from google.colab import data_table\n",
        "data_table.enable_dataframe_formatter()\n",
        "\n",
        "from pydrive.auth import GoogleAuth\n",
        "from pydrive.drive import GoogleDrive\n",
        "from oauth2client.client import GoogleCredentials\n",
        "from googleapiclient.discovery import build\n",
        "from googleapiclient.errors import HttpError\n",
        "\n",
        "gauth = GoogleAuth()\n",
        "gauth.credentials = GoogleCredentials.get_application_default()\n",
        "gdrive = GoogleDrive(gauth)"
      ],
      "metadata": {
        "colab": {
          "base_uri": "https://localhost:8080/"
        },
        "id": "I7RTbfPqzYp5",
        "outputId": "e4e2f07e-5735-4248-ad1a-10a7ff33e533"
      },
      "execution_count": null,
      "outputs": [
        {
          "output_type": "stream",
          "name": "stdout",
          "text": [
            "Mounted at /content/drive\n"
          ]
        }
      ]
    },
    {
      "cell_type": "code",
      "source": [
        "nome_dados = (\"Plane\", \"Rock\", \"Strawberry\", \"Symbols\")\n",
        "nome = nome_dados[1]\n",
        "dict_series = {}\n",
        "dict_series[\"nome_serie\"] = []\n",
        "dict_series[\"l_classe\"] = []\n",
        "dict_series[\"l_serie\"] = []\n",
        "\n",
        "nome_arquivo_completo = \"/content/drive/My Drive/tsv/\"+nome+\"_TRAIN.tsv\"\n",
        "with open(nome_arquivo_completo, 'rt') as f:\n",
        "  for i, linha in enumerate(f):\n",
        "    nome_serie = nome+\"-\"+str(i+1)\n",
        "    l_conteudo = linha.split(sep='\\t')\n",
        "    classe = l_conteudo[0]\n",
        "    dict_series[\"nome_serie\"].append(nome_serie)\n",
        "    dict_series[\"l_classe\"].append(classe)\n",
        "    dict_series[\"l_serie\"].append(pd.Series(data=l_conteudo[1:], name=nome_serie, dtype=\"float\"))"
      ],
      "metadata": {
        "id": "hLGv2AA4z6aA"
      },
      "execution_count": null,
      "outputs": []
    },
    {
      "cell_type": "code",
      "source": [
        "nome_dados = (\"Plane\", \"Rock\", \"Strawberry\", \"Symbols\")\n",
        "nome = nome_dados[1]\n",
        "dict_series = {}\n",
        "\n",
        "nome_arquivo_completo = \"/content/drive/My Drive/tsv/\"+nome+\"_TRAIN.tsv\"\n",
        "with open(nome_arquivo_completo, 'rt') as f:\n",
        "  for i, linha in enumerate(f):\n",
        "    nome_serie = nome+\"-\"+str(i+1)\n",
        "    l_conteudo = linha.split(sep='\\t')\n",
        "    classe = l_conteudo[0]\n",
        "    dict_series[nome_serie] = l_conteudo[1:]"
      ],
      "metadata": {
        "id": "UAGHGVI5TDsf"
      },
      "execution_count": null,
      "outputs": []
    },
    {
      "cell_type": "code",
      "source": [
        "#dict_series.keys()\n",
        "for k in dict_series.keys():\n",
        "  print(k)"
      ],
      "metadata": {
        "colab": {
          "base_uri": "https://localhost:8080/"
        },
        "id": "x8c72kz451Jw",
        "outputId": "4fbf6e36-6697-4864-eb94-abaeb66ad697"
      },
      "execution_count": null,
      "outputs": [
        {
          "output_type": "stream",
          "name": "stdout",
          "text": [
            "Rock-1\n",
            "Rock-2\n",
            "Rock-3\n",
            "Rock-4\n",
            "Rock-5\n",
            "Rock-6\n",
            "Rock-7\n",
            "Rock-8\n",
            "Rock-9\n",
            "Rock-10\n",
            "Rock-11\n",
            "Rock-12\n",
            "Rock-13\n",
            "Rock-14\n",
            "Rock-15\n",
            "Rock-16\n",
            "Rock-17\n",
            "Rock-18\n",
            "Rock-19\n",
            "Rock-20\n"
          ]
        }
      ]
    },
    {
      "cell_type": "code",
      "source": [
        "index = 3\n",
        "print(dict_series[\"nome_serie\"][index], \": classe =\", dict_series[\"l_classe\"][index])\n",
        "pp(dict_series[\"l_serie\"][index].name)"
      ],
      "metadata": {
        "colab": {
          "base_uri": "https://localhost:8080/"
        },
        "id": "8O_ZBu27C3Tl",
        "outputId": "d85c8ca9-330e-44c1-9e37-15c9fe1c0e58"
      },
      "execution_count": null,
      "outputs": [
        {
          "output_type": "stream",
          "name": "stdout",
          "text": [
            "Rock-4 : classe = 1\n",
            "'Rock-4'\n"
          ]
        }
      ]
    },
    {
      "cell_type": "code",
      "source": [
        "df_series = pd.DataFrame(data=dict_series)\n",
        "pp(df_series)"
      ],
      "metadata": {
        "colab": {
          "base_uri": "https://localhost:8080/"
        },
        "id": "7wUyY-ihGCx0",
        "outputId": "86fcb9df-3ad2-40c1-c3ed-3d618b866b56"
      },
      "execution_count": null,
      "outputs": [
        {
          "output_type": "stream",
          "name": "stdout",
          "text": [
            "       Rock-1    Rock-2    Rock-3  Rock-4  Rock-5    Rock-6    Rock-7  \\\n",
            "0     13.0795   15.7033    14.111  11.714  3.1037    45.824    80.953   \n",
            "1      13.083   15.6403    14.441  11.936  3.4368     46.03    81.053   \n",
            "2     13.6777   15.5077    14.529  12.233  3.4189    45.713    81.366   \n",
            "3     13.4523   15.5921    14.512   12.22  3.3985    45.357    81.184   \n",
            "4     13.3003   15.5123     14.52  12.227  3.5107    45.782    81.396   \n",
            "...       ...       ...       ...     ...     ...       ...       ...   \n",
            "2839   3.0694    3.6408    1.3575   1.499   0.885     3.444    11.738   \n",
            "2840   3.4716    3.0208         0   1.605  1.7475     3.062    7.1381   \n",
            "2841   3.4359    3.3958         0  1.0294  1.5787    2.7014    3.6569   \n",
            "2842   2.5912    2.3676     1.515     0.9  1.4625    2.5076    1.6501   \n",
            "2843  1.733\\n  2.0937\\n  3.2175\\n  1.08\\n     0\\n  2.6071\\n  1.2108\\n   \n",
            "\n",
            "       Rock-8    Rock-9   Rock-10   Rock-11   Rock-12   Rock-13   Rock-14  \\\n",
            "0      66.532     69.13   72.1806   28.7465   31.9126    20.376    5.4477   \n",
            "1      66.525    69.016   72.4459   28.6737   32.0199    20.476    5.4146   \n",
            "2      66.368    68.842   72.7457   28.9193   31.9713     20.34    5.1448   \n",
            "3      66.951    68.782   72.8145   29.0219   32.2816    20.328    5.3964   \n",
            "4       67.27    68.782   72.9061   29.0416    32.252    20.435    5.2827   \n",
            "...       ...       ...       ...       ...       ...       ...       ...   \n",
            "2839   14.464    2.7764    2.4983    3.3455    3.0258    7.4642    1.2755   \n",
            "2840    8.765     2.344    2.4125    3.2489    2.9749    6.7026    1.1289   \n",
            "2841   4.0486    1.9911    2.5287    3.1544    2.9067    5.9005    0.9367   \n",
            "2842   1.4891    1.8107     2.819    3.0668    2.8932    5.1901    0.6934   \n",
            "2843  1.131\\n  1.8706\\n  3.2089\\n  2.9926\\n  2.8742\\n  4.6932\\n  0.4062\\n   \n",
            "\n",
            "       Rock-15   Rock-16  Rock-17   Rock-18  Rock-19   Rock-20  \n",
            "0       27.555    19.862   10.933    7.2139   8.2903    10.077  \n",
            "1       27.335    19.748  10.9892    7.2121    8.325    10.531  \n",
            "2       27.497    20.133  11.0222    7.2305   8.2751    10.621  \n",
            "3       27.584     20.01  10.9655    7.1961   8.3439    10.483  \n",
            "4       27.584    19.798  11.1222    7.1942   8.3439    10.867  \n",
            "...        ...       ...      ...       ...      ...       ...  \n",
            "2839    10.451    2.6557   2.7426    6.7189   1.9952    2.0226  \n",
            "2840    10.135    2.6263   2.7272    6.7166   1.9106    2.0032  \n",
            "2841    9.7244    2.5941   2.7094     6.705    1.922    1.9696  \n",
            "2842    9.2323    2.5564    2.686    6.6841   2.0522    1.9334  \n",
            "2843  8.6748\\n  2.5098\\n  2.653\\n  6.6552\\n  2.282\\n  1.9073\\n  \n",
            "\n",
            "[2844 rows x 20 columns]\n"
          ]
        }
      ]
    }
  ]
}